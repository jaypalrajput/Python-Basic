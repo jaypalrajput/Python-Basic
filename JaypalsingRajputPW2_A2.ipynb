{
  "nbformat": 4,
  "nbformat_minor": 0,
  "metadata": {
    "kernelspec": {
      "display_name": "Python 3 (ipykernel)",
      "language": "python",
      "name": "python3"
    },
    "language_info": {
      "codemirror_mode": {
        "name": "ipython",
        "version": 3
      },
      "file_extension": ".py",
      "mimetype": "text/x-python",
      "name": "python",
      "nbconvert_exporter": "python",
      "pygments_lexer": "ipython3",
      "version": "3.9.1"
    },
    "toc": {
      "base_numbering": 1,
      "nav_menu": {},
      "number_sections": true,
      "sideBar": true,
      "skip_h1_title": false,
      "title_cell": "Table of Contents",
      "title_sidebar": "Contents",
      "toc_cell": false,
      "toc_position": {},
      "toc_section_display": true,
      "toc_window_display": false
    },
    "varInspector": {
      "cols": {
        "lenName": 16,
        "lenType": 16,
        "lenVar": 40
      },
      "kernels_config": {
        "python": {
          "delete_cmd_postfix": "",
          "delete_cmd_prefix": "del ",
          "library": "var_list.py",
          "varRefreshCmd": "print(var_dic_list())"
        },
        "r": {
          "delete_cmd_postfix": ") ",
          "delete_cmd_prefix": "rm(",
          "library": "var_list.r",
          "varRefreshCmd": "cat(var_dic_list()) "
        }
      },
      "types_to_exclude": [
        "module",
        "function",
        "builtin_function_or_method",
        "instance",
        "_Feature"
      ],
      "window_display": false
    },
    "colab": {
      "name": "JaypalsingRajputPW2-A2.ipynb",
      "provenance": [],
      "collapsed_sections": []
    }
  },
  "cells": [
    {
      "cell_type": "markdown",
      "metadata": {
        "deletable": false,
        "editable": false,
        "nbgrader": {
          "cell_type": "markdown",
          "checksum": "fe545d7a00abc65db7b3229c5c5a3405",
          "grade": false,
          "grade_id": "cell-0a1cd97d29171e27",
          "locked": true,
          "schema_version": 3,
          "solution": false,
          "task": false
        },
        "id": "a8NRgMtzb1Gv"
      },
      "source": [
        "# Rules:\n",
        "    1. Follow the given instructions strictly as the assignment will be automatically rejected if not done so.\n",
        "    2. After you are done answering the questions, save the notebook in .ipynb format and rename it as so;\n",
        "        \n",
        "        <<Your name as visible on 'My Courses' page>>_PW2-A2.ipynb\n",
        "        \n",
        "    3. After renaming the file as above submit onto the platform."
      ]
    },
    {
      "cell_type": "markdown",
      "metadata": {
        "deletable": false,
        "editable": false,
        "nbgrader": {
          "cell_type": "markdown",
          "checksum": "298cea394af55619a0fb68e48f577b20",
          "grade": false,
          "grade_id": "cell-39806162dd625703",
          "locked": true,
          "schema_version": 3,
          "solution": false,
          "task": false
        },
        "id": "NCL9uKn6b1G0"
      },
      "source": [
        "# Python W2 - Assignment 02"
      ]
    },
    {
      "cell_type": "markdown",
      "metadata": {
        "deletable": false,
        "editable": false,
        "nbgrader": {
          "cell_type": "markdown",
          "checksum": "de0a40b2a4709503e36f68b785f4ab14",
          "grade": false,
          "grade_id": "Q1",
          "locked": true,
          "schema_version": 3,
          "solution": false,
          "task": false
        },
        "id": "SncjJEwib1G1"
      },
      "source": [
        "## Prime numbers\n",
        "\n",
        "Write a program to find whether a number is prime or not inside the `ans1(a)` function body below.\n",
        "\n",
        "Instructions:\n",
        "- Enter your solution in the cell block below only. Double click to edit.\n",
        "-  Do not edit anything else apart from 'YOUR ANSWER HERE' or 'YOUR CODE HERE' for your solution"
      ]
    },
    {
      "cell_type": "code",
      "metadata": {
        "deletable": false,
        "nbgrader": {
          "cell_type": "code",
          "checksum": "92a3187c0059778a92e12c0bfe77ec74",
          "grade": false,
          "grade_id": "A1",
          "locked": false,
          "schema_version": 3,
          "solution": true,
          "task": false
        },
        "id": "2Hv2J9y3b1G1"
      },
      "source": [
        "def ans1(a):\n",
        "  pflag=False\n",
        "  '''\n",
        "    Should return a boolean (True or False) ONLY, Ex: For 23, ans1(23) would return True\n",
        "  '''\n",
        "  if a>1:\n",
        "     for i in range(2,a):\n",
        "       if a % i==0:\n",
        "          pflag=True\n",
        "          break\n",
        "  if pflag==True:\n",
        "    return False\n",
        "  else:\n",
        "    return True\n",
        "  raise NotImplementedError()     \n",
        "print(ans1(23))"
      ],
      "execution_count": null,
      "outputs": []
    },
    {
      "cell_type": "markdown",
      "metadata": {
        "deletable": false,
        "editable": false,
        "nbgrader": {
          "cell_type": "markdown",
          "checksum": "b058078194c0f6be7a4c79d51e919b9a",
          "grade": false,
          "grade_id": "Q2",
          "locked": true,
          "schema_version": 3,
          "solution": false,
          "task": false
        },
        "id": "OhBU4rstb1G3"
      },
      "source": [
        "## Scenario Psuedo Code\n",
        "A general scenario you encounter while cleaning datasets is of strings containing integers and special characters in them. \n",
        "\n",
        "Ex: 'AP09XX8799' is a vehicle number which contains both numbers and the letters. 'AP' is the state code of vehicle registration and other numbers/letters signify other information.\n",
        "\n",
        "Write a program to find and differentiate all such letters and digits/special characters in the function body of `ans2()` function ?\n",
        "\n",
        "\n",
        "Instructions:\n",
        "- Enter your solution in the cell block below only.\n",
        "- Do not edit anything else apart from 'YOUR ANSWER HERE' or 'YOUR CODE HERE' for your solution"
      ]
    },
    {
      "cell_type": "code",
      "metadata": {
        "ExecuteTime": {
          "end_time": "2021-11-30T12:14:31.232011Z",
          "start_time": "2021-11-30T12:14:31.221992Z"
        },
        "deletable": false,
        "nbgrader": {
          "cell_type": "code",
          "checksum": "2f7a3cb2e8f92f75f3961e4335dd9056",
          "grade": false,
          "grade_id": "A2",
          "locked": false,
          "schema_version": 3,
          "solution": true,
          "task": false
        },
        "id": "axUuuecsb1G4"
      },
      "source": [
        "def ans2(x):\n",
        "    '''\n",
        "    Should return a tuple containing two lists with the first containing only string characters and the other only numbers\n",
        "    Example result list: For x='AP09XX8799', ans2(x) would return - (['A','P','X','X'],[0,9,8,7,9,9])\n",
        "    '''\n",
        "    strch=[]\n",
        "    strno=[]\n",
        "    # x='AP09XX8799@'\n",
        "    \n",
        "    for ch in range(len(x)):\n",
        "      if (ord(x[ch]) >= 65 and ord(x[ch]) <=90) or (ord(x[ch]) >= 97 and ord(x[ch]) <=122):\n",
        "        strch.append(x[ch])\n",
        "      elif ord(x[ch]) >= 48 or ord(x[ch]) <=57:\n",
        "        strno.append(x[ch])\n",
        "             \n",
        "    return strch,strno\n",
        "  \n",
        "\n",
        "    raise NotImplementedError()\n",
        "ans2('AP09XX8799')"
      ],
      "execution_count": null,
      "outputs": []
    },
    {
      "cell_type": "code",
      "metadata": {
        "id": "3TKUKdjPb1G5"
      },
      "source": [
        ""
      ],
      "execution_count": 80,
      "outputs": []
    }
  ]
}